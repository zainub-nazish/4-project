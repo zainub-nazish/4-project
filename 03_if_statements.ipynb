{
  "nbformat": 4,
  "nbformat_minor": 0,
  "metadata": {
    "colab": {
      "provenance": [],
      "authorship_tag": "ABX9TyMlFX/Bdea2faiPzJp5VGmI",
      "include_colab_link": true
    },
    "kernelspec": {
      "name": "python3",
      "display_name": "Python 3"
    },
    "language_info": {
      "name": "python"
    }
  },
  "cells": [
    {
      "cell_type": "markdown",
      "metadata": {
        "id": "view-in-github",
        "colab_type": "text"
      },
      "source": [
        "<a href=\"https://colab.research.google.com/github/zainub-nazish/4-project/blob/main/03_if_statements.ipynb\" target=\"_parent\"><img src=\"https://colab.research.google.com/assets/colab-badge.svg\" alt=\"Open In Colab\"/></a>"
      ]
    },
    {
      "cell_type": "code",
      "execution_count": null,
      "metadata": {
        "colab": {
          "base_uri": "https://localhost:8080/"
        },
        "id": "sD7x3C5FJ39V",
        "outputId": "515a0d7d-e4c1-4188-a7d7-2aefde86937f"
      },
      "outputs": [
        {
          "output_type": "stream",
          "name": "stdout",
          "text": [
            "01_print_events\n",
            "0\n",
            "2\n",
            "4\n",
            "6\n",
            "8\n",
            "10\n",
            "12\n",
            "14\n",
            "16\n",
            "18\n",
            "20\n",
            "22\n",
            "24\n",
            "26\n",
            "28\n",
            "30\n",
            "32\n",
            "34\n",
            "36\n",
            "38\n",
            "40\n",
            "42\n",
            "44\n",
            "46\n",
            "48\n",
            "50\n",
            "52\n",
            "54\n",
            "56\n",
            "58\n",
            "60\n",
            "62\n",
            "64\n",
            "66\n",
            "68\n",
            "70\n",
            "72\n",
            "74\n",
            "76\n",
            "78\n"
          ]
        }
      ],
      "source": [
        "print(\"01_print_events\")\n",
        "\n",
        "def event():\n",
        "  for i in range(40):\n",
        "    even = i * 2\n",
        "    print(even)\n",
        "  #  print(\"Here is 20 even number are: \", i * 2)\n",
        "\n",
        "\n",
        "if __name__ == \"__main__\":\n",
        "  event()\n"
      ]
    },
    {
      "cell_type": "code",
      "source": [
        "print(\"02_international_voting_age\")\n",
        "\n",
        "Peturksbouipo:int = 16\n",
        "Stanlau:int = 25\n",
        "Mayengua:int = 48\n",
        "\n",
        "\n",
        "def main():\n",
        "  age:int = int(input(\"How old are you?\"))\n",
        "  if age >= Peturksbouipo:\n",
        "    print(f\"Your age is {age}.you are elight to vote in Peturksbouipo!\")\n",
        "  else:\n",
        "    print(f\"Your age is {age}.you are not elight to vote in Peturksbouipo!\")\n",
        "\n",
        "\n",
        "  if age >= Stanlau:\n",
        "    print(f\"Your age is {age}.you are elight to vote in Stanlau!\")\n",
        "  else:\n",
        "    print(f\"Your age is {age}.you are not elight to vote in Stanlau!\")\n",
        "\n",
        "\n",
        "  if age >=Mayengua:\n",
        "    print(f\"Your age is {age}.you are elight to vote in Mayengua!\")\n",
        "  else:\n",
        "    print(f\"Your age is {age}.you are not elight to vote in Mayengua!\")\n",
        "\n",
        "\n",
        "if __name__ == \"__main__\":\n",
        "  main()\n",
        "\n"
      ],
      "metadata": {
        "colab": {
          "base_uri": "https://localhost:8080/"
        },
        "id": "sTlciv5WOMad",
        "outputId": "f74830ed-cc73-40a4-8ebc-438cee686d21"
      },
      "execution_count": null,
      "outputs": [
        {
          "output_type": "stream",
          "name": "stdout",
          "text": [
            "02_international_voting_age\n",
            "How old are you? 45\n",
            "Your age is 45.you are elight to vote in Peturksbouipo!\n",
            "Your age is 45.you are elight to vote in Stanlau!\n",
            "Your age is 45.you are not elight to vote in Mayengua!\n"
          ]
        }
      ]
    },
    {
      "cell_type": "code",
      "source": [
        "print(\"03_leap_year\")\n",
        "\n",
        "def leap_year():\n",
        "  year:int = int(input(\"Enter as year.\"))\n",
        "\n",
        "  if year % 4 == 0:\n",
        "    if year % 100 == 0:\n",
        "      if year % 400 == 0:\n",
        "         print(f'{year} is a leap year.')\n",
        "      else:\n",
        "          print(f'{year} is not a leap year.')\n",
        "    else:\n",
        "       print(f'{year} is not a leap year.')\n",
        "  else:\n",
        "    print(f'{year} is not a leap year.')\n",
        "\n",
        "if __name__ == \"__main__\":\n",
        "  leap_year()\n"
      ],
      "metadata": {
        "colab": {
          "base_uri": "https://localhost:8080/"
        },
        "id": "i6-WcHYRWn5v",
        "outputId": "00095258-5e37-4f12-9981-43e4ac210df3"
      },
      "execution_count": 3,
      "outputs": [
        {
          "output_type": "stream",
          "name": "stdout",
          "text": [
            "03_leap_year\n",
            "Enter as year.2035\n",
            "2035 is not a leap year.\n"
          ]
        }
      ]
    },
    {
      "cell_type": "code",
      "source": [
        "print(\"04_tall_enough_to_ride\")\n",
        "\n",
        "min_height:int = 50\n",
        "def main():\n",
        "  user:int = int(input(\"How tall are you?\"))\n",
        "  if user >= min_height:\n",
        "    print(\"You are tall enough to ride\")\n",
        "  else:\n",
        "    print(\"You are not tall enough to ride.May be next year.\")\n",
        "\n",
        "if __name__ == \"__main__\":\n",
        "  main()\n",
        "\n"
      ],
      "metadata": {
        "colab": {
          "base_uri": "https://localhost:8080/"
        },
        "id": "RmJI0jxEa_9P",
        "outputId": "fd08fa8d-bdb2-4298-a659-23e3c86c8fda"
      },
      "execution_count": 6,
      "outputs": [
        {
          "output_type": "stream",
          "name": "stdout",
          "text": [
            "04_tall_enough_to_ride\n",
            "How tall are you?5\n",
            "You are not tall enough to ride.May be next year.\n"
          ]
        }
      ]
    },
    {
      "cell_type": "code",
      "source": [
        "print(\"05_random_numbers\")\n",
        "\n",
        "import random\n",
        "\n",
        "def main():\n",
        "  for i in range(10):\n",
        "    num:list[int] = random.randint(1,100)\n",
        "    print(num)\n",
        "\n",
        "if __name__ == \"__main__\":\n",
        "  main()\n",
        "\n"
      ],
      "metadata": {
        "colab": {
          "base_uri": "https://localhost:8080/"
        },
        "id": "nLPAWQsveOMB",
        "outputId": "06d4b8f6-c5ff-42b6-b80a-37d876201d1a"
      },
      "execution_count": 10,
      "outputs": [
        {
          "output_type": "stream",
          "name": "stdout",
          "text": [
            "05_random_numbers\n",
            "63\n",
            "82\n",
            "21\n",
            "65\n",
            "92\n",
            "26\n",
            "54\n",
            "85\n",
            "27\n",
            "37\n"
          ]
        }
      ]
    }
  ]
}